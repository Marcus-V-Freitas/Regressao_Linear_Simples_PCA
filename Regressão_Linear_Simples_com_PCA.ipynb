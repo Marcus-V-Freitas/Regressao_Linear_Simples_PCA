{
  "nbformat": 4,
  "nbformat_minor": 0,
  "metadata": {
    "colab": {
      "name": "Regressão Linear Simples com PCA.ipynb",
      "provenance": [],
      "collapsed_sections": [
        "HLt0xGoxouSj",
        "w86m-HAOo26o",
        "nPnpxHfw20PJ",
        "pMRmyc1MooD5",
        "TrHjz69Hokt8",
        "PqGsnmtVwvkL",
        "6nMszaRXw2HT",
        "AFBT2oDtw7W5",
        "ZOiUr4KCxCET",
        "BA7Spgs5xSHo",
        "mWrhjtEfxX2W",
        "1VTIU5uaxes5",
        "CegOdQ7vxnNQ",
        "_x2XCTTX2Rzh",
        "bVDCfHOzpC4U",
        "fOdXH_hwogmS",
        "KPYXV48InZIE",
        "YXXjnElanzPU",
        "jI68XjOKpNg5"
      ]
    },
    "kernelspec": {
      "name": "python3",
      "display_name": "Python 3"
    },
    "language_info": {
      "name": "python"
    }
  },
  "cells": [
    {
      "cell_type": "markdown",
      "metadata": {
        "id": "jh9sPv_72_r4"
      },
      "source": [
        "#Regressão Linear Simples com PCA"
      ]
    },
    {
      "cell_type": "markdown",
      "metadata": {
        "id": "A6osG-NFowGz"
      },
      "source": [
        "##Importar e Instalar Libs"
      ]
    },
    {
      "cell_type": "code",
      "metadata": {
        "colab": {
          "base_uri": "https://localhost:8080/"
        },
        "id": "gh0xFU4Y83eK",
        "outputId": "907f9dd4-4062-4c7a-a80e-987feca8814f"
      },
      "source": [
        "!pip install plotly --upgrade"
      ],
      "execution_count": 239,
      "outputs": [
        {
          "output_type": "stream",
          "text": [
            "Requirement already satisfied: plotly in /usr/local/lib/python3.7/dist-packages (5.1.0)\n",
            "Requirement already satisfied: six in /usr/local/lib/python3.7/dist-packages (from plotly) (1.15.0)\n",
            "Requirement already satisfied: tenacity>=6.2.0 in /usr/local/lib/python3.7/dist-packages (from plotly) (8.0.1)\n"
          ],
          "name": "stdout"
        }
      ]
    },
    {
      "cell_type": "code",
      "metadata": {
        "id": "mDSJMt8QlJO3"
      },
      "source": [
        "import pandas as pd #Manipulações com DataFrames\n",
        "import numpy as np #Manipulações numéricas\n",
        "import matplotlib.pyplot as plt #Gráficos\n",
        "import plotly.express as px #Gráficos interativos\n",
        "import seaborn as sns #Gráficos\n",
        "import plotly.graph_objects as go #Gráficos interativos\n",
        "\n",
        "from sklearn import datasets #Utilizar base de dados\n",
        "from sklearn.preprocessing import StandardScaler #Padronizar os dados (z-score)\n",
        "from sklearn.model_selection import train_test_split #Separar as bases de dados em treinamento e teste\n",
        "from sklearn.linear_model import LinearRegression #Algoritmo de Regressão Linear do Sklearn\n",
        "%matplotlib inline"
      ],
      "execution_count": 240,
      "outputs": []
    },
    {
      "cell_type": "markdown",
      "metadata": {
        "id": "HLt0xGoxouSj"
      },
      "source": [
        "##Carregar base de dados"
      ]
    },
    {
      "cell_type": "code",
      "metadata": {
        "id": "IjdNI4sP7Rtd"
      },
      "source": [
        "dataset=datasets.load_boston()"
      ],
      "execution_count": 241,
      "outputs": []
    },
    {
      "cell_type": "markdown",
      "metadata": {
        "id": "w86m-HAOo26o"
      },
      "source": [
        "##Preparação e entendimento dos dados"
      ]
    },
    {
      "cell_type": "markdown",
      "metadata": {
        "id": "aQN7xdB-ENT2"
      },
      "source": [
        "**Atributos**\n",
        "\n",
        "* CRIM - taxa de crime per capita por cidade.\n",
        "* ZN - proporção de terrenos residenciais zoneados para lotes com mais de 25.000 pés quadrados.\n",
        "* INDUS - proporção de acres de negócios não varejistas por cidade.\n",
        "* CHAS - Variável dummy de Charles River (= 1 se a área limita o rio; 0 caso contrário).\n",
        "* NOX  - concentração de óxidos nítricos (partes por 10 milhões).\n",
        "* RM  - número médio de quartos por habitação.\n",
        "* AGE - proporção de unidades ocupadas pelo proprietário construídas antes de 1940.\n",
        "* DIS - distâncias ponderadas para cinco centros de empregos de Boston.\n",
        "* RAD - índice de acessibilidade a rodovias radiais.\n",
        "* TAX - taxa de imposto sobre a propriedade de valor total por $10.000.\n",
        "\n",
        "* PTRATIO - proporção aluno-professor por cidade.\n",
        "* B - 1000 (Bk - 0,63) ^ 2 onde Bk é a proporção de negros por cidade.\n",
        "* LSTAT - % status inferior da população.\n",
        "* MEDV  - Valor médio das casas ocupadas pelo proprietário em US $ 1.000."
      ]
    },
    {
      "cell_type": "code",
      "metadata": {
        "id": "wBUPwNB0_eYa"
      },
      "source": [
        "df_boston=pd.DataFrame(dataset.data, columns=dataset.feature_names)\n",
        "df_boston['MEDV']=np.array([dataset.target]).T"
      ],
      "execution_count": 242,
      "outputs": []
    },
    {
      "cell_type": "code",
      "metadata": {
        "colab": {
          "base_uri": "https://localhost:8080/",
          "height": 203
        },
        "id": "8EBqp8kdClXP",
        "outputId": "c0b237b9-9045-4546-c3d9-14db51c54501"
      },
      "source": [
        "df_boston.head()"
      ],
      "execution_count": 243,
      "outputs": [
        {
          "output_type": "execute_result",
          "data": {
            "text/html": [
              "<div>\n",
              "<style scoped>\n",
              "    .dataframe tbody tr th:only-of-type {\n",
              "        vertical-align: middle;\n",
              "    }\n",
              "\n",
              "    .dataframe tbody tr th {\n",
              "        vertical-align: top;\n",
              "    }\n",
              "\n",
              "    .dataframe thead th {\n",
              "        text-align: right;\n",
              "    }\n",
              "</style>\n",
              "<table border=\"1\" class=\"dataframe\">\n",
              "  <thead>\n",
              "    <tr style=\"text-align: right;\">\n",
              "      <th></th>\n",
              "      <th>CRIM</th>\n",
              "      <th>ZN</th>\n",
              "      <th>INDUS</th>\n",
              "      <th>CHAS</th>\n",
              "      <th>NOX</th>\n",
              "      <th>RM</th>\n",
              "      <th>AGE</th>\n",
              "      <th>DIS</th>\n",
              "      <th>RAD</th>\n",
              "      <th>TAX</th>\n",
              "      <th>PTRATIO</th>\n",
              "      <th>B</th>\n",
              "      <th>LSTAT</th>\n",
              "      <th>MEDV</th>\n",
              "    </tr>\n",
              "  </thead>\n",
              "  <tbody>\n",
              "    <tr>\n",
              "      <th>0</th>\n",
              "      <td>0.00632</td>\n",
              "      <td>18.0</td>\n",
              "      <td>2.31</td>\n",
              "      <td>0.0</td>\n",
              "      <td>0.538</td>\n",
              "      <td>6.575</td>\n",
              "      <td>65.2</td>\n",
              "      <td>4.0900</td>\n",
              "      <td>1.0</td>\n",
              "      <td>296.0</td>\n",
              "      <td>15.3</td>\n",
              "      <td>396.90</td>\n",
              "      <td>4.98</td>\n",
              "      <td>24.0</td>\n",
              "    </tr>\n",
              "    <tr>\n",
              "      <th>1</th>\n",
              "      <td>0.02731</td>\n",
              "      <td>0.0</td>\n",
              "      <td>7.07</td>\n",
              "      <td>0.0</td>\n",
              "      <td>0.469</td>\n",
              "      <td>6.421</td>\n",
              "      <td>78.9</td>\n",
              "      <td>4.9671</td>\n",
              "      <td>2.0</td>\n",
              "      <td>242.0</td>\n",
              "      <td>17.8</td>\n",
              "      <td>396.90</td>\n",
              "      <td>9.14</td>\n",
              "      <td>21.6</td>\n",
              "    </tr>\n",
              "    <tr>\n",
              "      <th>2</th>\n",
              "      <td>0.02729</td>\n",
              "      <td>0.0</td>\n",
              "      <td>7.07</td>\n",
              "      <td>0.0</td>\n",
              "      <td>0.469</td>\n",
              "      <td>7.185</td>\n",
              "      <td>61.1</td>\n",
              "      <td>4.9671</td>\n",
              "      <td>2.0</td>\n",
              "      <td>242.0</td>\n",
              "      <td>17.8</td>\n",
              "      <td>392.83</td>\n",
              "      <td>4.03</td>\n",
              "      <td>34.7</td>\n",
              "    </tr>\n",
              "    <tr>\n",
              "      <th>3</th>\n",
              "      <td>0.03237</td>\n",
              "      <td>0.0</td>\n",
              "      <td>2.18</td>\n",
              "      <td>0.0</td>\n",
              "      <td>0.458</td>\n",
              "      <td>6.998</td>\n",
              "      <td>45.8</td>\n",
              "      <td>6.0622</td>\n",
              "      <td>3.0</td>\n",
              "      <td>222.0</td>\n",
              "      <td>18.7</td>\n",
              "      <td>394.63</td>\n",
              "      <td>2.94</td>\n",
              "      <td>33.4</td>\n",
              "    </tr>\n",
              "    <tr>\n",
              "      <th>4</th>\n",
              "      <td>0.06905</td>\n",
              "      <td>0.0</td>\n",
              "      <td>2.18</td>\n",
              "      <td>0.0</td>\n",
              "      <td>0.458</td>\n",
              "      <td>7.147</td>\n",
              "      <td>54.2</td>\n",
              "      <td>6.0622</td>\n",
              "      <td>3.0</td>\n",
              "      <td>222.0</td>\n",
              "      <td>18.7</td>\n",
              "      <td>396.90</td>\n",
              "      <td>5.33</td>\n",
              "      <td>36.2</td>\n",
              "    </tr>\n",
              "  </tbody>\n",
              "</table>\n",
              "</div>"
            ],
            "text/plain": [
              "      CRIM    ZN  INDUS  CHAS    NOX  ...    TAX  PTRATIO       B  LSTAT  MEDV\n",
              "0  0.00632  18.0   2.31   0.0  0.538  ...  296.0     15.3  396.90   4.98  24.0\n",
              "1  0.02731   0.0   7.07   0.0  0.469  ...  242.0     17.8  396.90   9.14  21.6\n",
              "2  0.02729   0.0   7.07   0.0  0.469  ...  242.0     17.8  392.83   4.03  34.7\n",
              "3  0.03237   0.0   2.18   0.0  0.458  ...  222.0     18.7  394.63   2.94  33.4\n",
              "4  0.06905   0.0   2.18   0.0  0.458  ...  222.0     18.7  396.90   5.33  36.2\n",
              "\n",
              "[5 rows x 14 columns]"
            ]
          },
          "metadata": {
            "tags": []
          },
          "execution_count": 243
        }
      ]
    },
    {
      "cell_type": "markdown",
      "metadata": {
        "id": "nPnpxHfw20PJ"
      },
      "source": [
        "##Análise dos Dados"
      ]
    },
    {
      "cell_type": "markdown",
      "metadata": {
        "id": "pMRmyc1MooD5"
      },
      "source": [
        "###Verificar valores nulos na base"
      ]
    },
    {
      "cell_type": "code",
      "metadata": {
        "colab": {
          "base_uri": "https://localhost:8080/",
          "height": 0
        },
        "id": "5Kk5Ii6cF_5b",
        "outputId": "94276b9d-607f-4e17-ecad-35225ea141a0"
      },
      "source": [
        "sns.heatmap(df_boston.isnull());"
      ],
      "execution_count": 244,
      "outputs": [
        {
          "output_type": "display_data",
          "data": {
            "image/png": "[encoded data removed]",
            "text/plain": [
              "<Figure size 432x288 with 2 Axes>"
            ]
          },
          "metadata": {
            "tags": [],
            "needs_background": "light"
          }
        }
      ]
    },
    {
      "cell_type": "markdown",
      "metadata": {
        "id": "TrHjz69Hokt8"
      },
      "source": [
        "###Matriz de Correlações"
      ]
    },
    {
      "cell_type": "code",
      "metadata": {
        "colab": {
          "base_uri": "https://localhost:8080/",
          "height": 0
        },
        "id": "TvVpvaqHBylz",
        "outputId": "d71c327c-88a4-4d89-e9fa-1fa4c608ced0"
      },
      "source": [
        "figura=plt.figure(figsize=(30,30))\n",
        "sns.heatmap(df_boston.corr(),annot=True);"
      ],
      "execution_count": 245,
      "outputs": [
        {
          "output_type": "display_data",
          "data": {
            "image/png": "[encoded data removed]",
            "text/plain": [
              "<Figure size 2160x2160 with 2 Axes>"
            ]
          },
          "metadata": {
            "tags": [],
            "needs_background": "light"
          }
        }
      ]
    },
    {
      "cell_type": "markdown",
      "metadata": {
        "id": "PqGsnmtVwvkL"
      },
      "source": [
        "##PCA"
      ]
    },
    {
      "cell_type": "markdown",
      "metadata": {
        "id": "6nMszaRXw2HT"
      },
      "source": [
        "###Correlação"
      ]
    },
    {
      "cell_type": "code",
      "metadata": {
        "id": "Aa4B28Zq0bwz"
      },
      "source": [
        "df_boston_cov=df_boston.drop('CHAS',axis=1)"
      ],
      "execution_count": 283,
      "outputs": []
    },
    {
      "cell_type": "code",
      "metadata": {
        "colab": {
          "base_uri": "https://localhost:8080/",
          "height": 418
        },
        "id": "HG8D6AYerD4I",
        "outputId": "85d6026e-9e7f-41c5-8fa2-68d851953096"
      },
      "source": [
        "cov=df_boston_cov.iloc[:,0:12].corr()\n",
        "cov"
      ],
      "execution_count": 287,
      "outputs": [
        {
          "output_type": "execute_result",
          "data": {
            "text/html": [
              "<div>\n",
              "<style scoped>\n",
              "    .dataframe tbody tr th:only-of-type {\n",
              "        vertical-align: middle;\n",
              "    }\n",
              "\n",
              "    .dataframe tbody tr th {\n",
              "        vertical-align: top;\n",
              "    }\n",
              "\n",
              "    .dataframe thead th {\n",
              "        text-align: right;\n",
              "    }\n",
              "</style>\n",
              "<table border=\"1\" class=\"dataframe\">\n",
              "  <thead>\n",
              "    <tr style=\"text-align: right;\">\n",
              "      <th></th>\n",
              "      <th>CRIM</th>\n",
              "      <th>ZN</th>\n",
              "      <th>INDUS</th>\n",
              "      <th>NOX</th>\n",
              "      <th>RM</th>\n",
              "      <th>AGE</th>\n",
              "      <th>DIS</th>\n",
              "      <th>RAD</th>\n",
              "      <th>TAX</th>\n",
              "      <th>PTRATIO</th>\n",
              "      <th>B</th>\n",
              "      <th>LSTAT</th>\n",
              "    </tr>\n",
              "  </thead>\n",
              "  <tbody>\n",
              "    <tr>\n",
              "      <th>CRIM</th>\n",
              "      <td>1.000000</td>\n",
              "      <td>-0.200469</td>\n",
              "      <td>0.406583</td>\n",
              "      <td>0.420972</td>\n",
              "      <td>-0.219247</td>\n",
              "      <td>0.352734</td>\n",
              "      <td>-0.379670</td>\n",
              "      <td>0.625505</td>\n",
              "      <td>0.582764</td>\n",
              "      <td>0.289946</td>\n",
              "      <td>-0.385064</td>\n",
              "      <td>0.455621</td>\n",
              "    </tr>\n",
              "    <tr>\n",
              "      <th>ZN</th>\n",
              "      <td>-0.200469</td>\n",
              "      <td>1.000000</td>\n",
              "      <td>-0.533828</td>\n",
              "      <td>-0.516604</td>\n",
              "      <td>0.311991</td>\n",
              "      <td>-0.569537</td>\n",
              "      <td>0.664408</td>\n",
              "      <td>-0.311948</td>\n",
              "      <td>-0.314563</td>\n",
              "      <td>-0.391679</td>\n",
              "      <td>0.175520</td>\n",
              "      <td>-0.412995</td>\n",
              "    </tr>\n",
              "    <tr>\n",
              "      <th>INDUS</th>\n",
              "      <td>0.406583</td>\n",
              "      <td>-0.533828</td>\n",
              "      <td>1.000000</td>\n",
              "      <td>0.763651</td>\n",
              "      <td>-0.391676</td>\n",
              "      <td>0.644779</td>\n",
              "      <td>-0.708027</td>\n",
              "      <td>0.595129</td>\n",
              "      <td>0.720760</td>\n",
              "      <td>0.383248</td>\n",
              "      <td>-0.356977</td>\n",
              "      <td>0.603800</td>\n",
              "    </tr>\n",
              "    <tr>\n",
              "      <th>NOX</th>\n",
              "      <td>0.420972</td>\n",
              "      <td>-0.516604</td>\n",
              "      <td>0.763651</td>\n",
              "      <td>1.000000</td>\n",
              "      <td>-0.302188</td>\n",
              "      <td>0.731470</td>\n",
              "      <td>-0.769230</td>\n",
              "      <td>0.611441</td>\n",
              "      <td>0.668023</td>\n",
              "      <td>0.188933</td>\n",
              "      <td>-0.380051</td>\n",
              "      <td>0.590879</td>\n",
              "    </tr>\n",
              "    <tr>\n",
              "      <th>RM</th>\n",
              "      <td>-0.219247</td>\n",
              "      <td>0.311991</td>\n",
              "      <td>-0.391676</td>\n",
              "      <td>-0.302188</td>\n",
              "      <td>1.000000</td>\n",
              "      <td>-0.240265</td>\n",
              "      <td>0.205246</td>\n",
              "      <td>-0.209847</td>\n",
              "      <td>-0.292048</td>\n",
              "      <td>-0.355501</td>\n",
              "      <td>0.128069</td>\n",
              "      <td>-0.613808</td>\n",
              "    </tr>\n",
              "    <tr>\n",
              "      <th>AGE</th>\n",
              "      <td>0.352734</td>\n",
              "      <td>-0.569537</td>\n",
              "      <td>0.644779</td>\n",
              "      <td>0.731470</td>\n",
              "      <td>-0.240265</td>\n",
              "      <td>1.000000</td>\n",
              "      <td>-0.747881</td>\n",
              "      <td>0.456022</td>\n",
              "      <td>0.506456</td>\n",
              "      <td>0.261515</td>\n",
              "      <td>-0.273534</td>\n",
              "      <td>0.602339</td>\n",
              "    </tr>\n",
              "    <tr>\n",
              "      <th>DIS</th>\n",
              "      <td>-0.379670</td>\n",
              "      <td>0.664408</td>\n",
              "      <td>-0.708027</td>\n",
              "      <td>-0.769230</td>\n",
              "      <td>0.205246</td>\n",
              "      <td>-0.747881</td>\n",
              "      <td>1.000000</td>\n",
              "      <td>-0.494588</td>\n",
              "      <td>-0.534432</td>\n",
              "      <td>-0.232471</td>\n",
              "      <td>0.291512</td>\n",
              "      <td>-0.496996</td>\n",
              "    </tr>\n",
              "    <tr>\n",
              "      <th>RAD</th>\n",
              "      <td>0.625505</td>\n",
              "      <td>-0.311948</td>\n",
              "      <td>0.595129</td>\n",
              "      <td>0.611441</td>\n",
              "      <td>-0.209847</td>\n",
              "      <td>0.456022</td>\n",
              "      <td>-0.494588</td>\n",
              "      <td>1.000000</td>\n",
              "      <td>0.910228</td>\n",
              "      <td>0.464741</td>\n",
              "      <td>-0.444413</td>\n",
              "      <td>0.488676</td>\n",
              "    </tr>\n",
              "    <tr>\n",
              "      <th>TAX</th>\n",
              "      <td>0.582764</td>\n",
              "      <td>-0.314563</td>\n",
              "      <td>0.720760</td>\n",
              "      <td>0.668023</td>\n",
              "      <td>-0.292048</td>\n",
              "      <td>0.506456</td>\n",
              "      <td>-0.534432</td>\n",
              "      <td>0.910228</td>\n",
              "      <td>1.000000</td>\n",
              "      <td>0.460853</td>\n",
              "      <td>-0.441808</td>\n",
              "      <td>0.543993</td>\n",
              "    </tr>\n",
              "    <tr>\n",
              "      <th>PTRATIO</th>\n",
              "      <td>0.289946</td>\n",
              "      <td>-0.391679</td>\n",
              "      <td>0.383248</td>\n",
              "      <td>0.188933</td>\n",
              "      <td>-0.355501</td>\n",
              "      <td>0.261515</td>\n",
              "      <td>-0.232471</td>\n",
              "      <td>0.464741</td>\n",
              "      <td>0.460853</td>\n",
              "      <td>1.000000</td>\n",
              "      <td>-0.177383</td>\n",
              "      <td>0.374044</td>\n",
              "    </tr>\n",
              "    <tr>\n",
              "      <th>B</th>\n",
              "      <td>-0.385064</td>\n",
              "      <td>0.175520</td>\n",
              "      <td>-0.356977</td>\n",
              "      <td>-0.380051</td>\n",
              "      <td>0.128069</td>\n",
              "      <td>-0.273534</td>\n",
              "      <td>0.291512</td>\n",
              "      <td>-0.444413</td>\n",
              "      <td>-0.441808</td>\n",
              "      <td>-0.177383</td>\n",
              "      <td>1.000000</td>\n",
              "      <td>-0.366087</td>\n",
              "    </tr>\n",
              "    <tr>\n",
              "      <th>LSTAT</th>\n",
              "      <td>0.455621</td>\n",
              "      <td>-0.412995</td>\n",
              "      <td>0.603800</td>\n",
              "      <td>0.590879</td>\n",
              "      <td>-0.613808</td>\n",
              "      <td>0.602339</td>\n",
              "      <td>-0.496996</td>\n",
              "      <td>0.488676</td>\n",
              "      <td>0.543993</td>\n",
              "      <td>0.374044</td>\n",
              "      <td>-0.366087</td>\n",
              "      <td>1.000000</td>\n",
              "    </tr>\n",
              "  </tbody>\n",
              "</table>\n",
              "</div>"
            ],
            "text/plain": [
              "             CRIM        ZN     INDUS  ...   PTRATIO         B     LSTAT\n",
              "CRIM     1.000000 -0.200469  0.406583  ...  0.289946 -0.385064  0.455621\n",
              "ZN      -0.200469  1.000000 -0.533828  ... -0.391679  0.175520 -0.412995\n",
              "INDUS    0.406583 -0.533828  1.000000  ...  0.383248 -0.356977  0.603800\n",
              "NOX      0.420972 -0.516604  0.763651  ...  0.188933 -0.380051  0.590879\n",
              "RM      -0.219247  0.311991 -0.391676  ... -0.355501  0.128069 -0.613808\n",
              "AGE      0.352734 -0.569537  0.644779  ...  0.261515 -0.273534  0.602339\n",
              "DIS     -0.379670  0.664408 -0.708027  ... -0.232471  0.291512 -0.496996\n",
              "RAD      0.625505 -0.311948  0.595129  ...  0.464741 -0.444413  0.488676\n",
              "TAX      0.582764 -0.314563  0.720760  ...  0.460853 -0.441808  0.543993\n",
              "PTRATIO  0.289946 -0.391679  0.383248  ...  1.000000 -0.177383  0.374044\n",
              "B       -0.385064  0.175520 -0.356977  ... -0.177383  1.000000 -0.366087\n",
              "LSTAT    0.455621 -0.412995  0.603800  ...  0.374044 -0.366087  1.000000\n",
              "\n",
              "[12 rows x 12 columns]"
            ]
          },
          "metadata": {
            "tags": []
          },
          "execution_count": 287
        }
      ]
    },
    {
      "cell_type": "markdown",
      "metadata": {
        "id": "AFBT2oDtw7W5"
      },
      "source": [
        "###Autovalores e Autovetores ordenados"
      ]
    },
    {
      "cell_type": "code",
      "metadata": {
        "id": "5bPM3Kbyq20G"
      },
      "source": [
        "def sortear_eig(A):  # Por enquanto, classificamos 'por convenção'. Para o PCA, a classificação é fundamental.\n",
        "    lambdas, vs = np.linalg.eig(A)\n",
        "    #A próxima linha apenas classifica valores e vetores juntos em ordem decrescente de autovalores\n",
        "    lambdas, vs = zip(*sorted(zip(list(lambdas), list(vs.T)),key=lambda x: x[0], reverse=True))\n",
        "    return lambdas, np.array(vs).T  #desfazendo o cast da lista da linha anterior\n",
        "\n",
        "lambdas, vs = sortear_eig(cov)"
      ],
      "execution_count": 288,
      "outputs": []
    },
    {
      "cell_type": "markdown",
      "metadata": {
        "id": "ZOiUr4KCxCET"
      },
      "source": [
        "###Verificando componentes que atendam o Critério de Kaiser (Capturem mais de 1 de uma variável)"
      ]
    },
    {
      "cell_type": "code",
      "metadata": {
        "colab": {
          "base_uri": "https://localhost:8080/"
        },
        "id": "hGlx9hc1q40I",
        "outputId": "54a7c30f-dddd-4081-afd1-3510bfbcfdf0"
      },
      "source": [
        "for i in range(1,len(lambdas)+1):\n",
        "  if lambdas[i-1] > 1:\n",
        "    print(f'PCA{i} {lambdas[i-1]}')"
      ],
      "execution_count": 289,
      "outputs": [
        {
          "output_type": "stream",
          "text": [
            "PCA1 6.1267187961514775\n",
            "PCA2 1.342479287575694\n",
            "PCA3 1.1797848331200622\n"
          ],
          "name": "stdout"
        }
      ]
    },
    {
      "cell_type": "markdown",
      "metadata": {
        "id": "BA7Spgs5xSHo"
      },
      "source": [
        "###Calculando Scores Fatorias"
      ]
    },
    {
      "cell_type": "code",
      "metadata": {
        "id": "rNR7AJOOrxNU"
      },
      "source": [
        "scoresFatorias=((vs)/np.sqrt(lambdas)).T"
      ],
      "execution_count": 290,
      "outputs": []
    },
    {
      "cell_type": "code",
      "metadata": {
        "colab": {
          "base_uri": "https://localhost:8080/",
          "height": 418
        },
        "id": "FmQ0TcUerzQq",
        "outputId": "93d06ff0-f716-4ad3-c354-6e57fe365a1d"
      },
      "source": [
        "scores=pd.DataFrame({'PCA1':scoresFatorias[0]})\n",
        "scores"
      ],
      "execution_count": 291,
      "outputs": [
        {
          "output_type": "execute_result",
          "data": {
            "text/html": [
              "<div>\n",
              "<style scoped>\n",
              "    .dataframe tbody tr th:only-of-type {\n",
              "        vertical-align: middle;\n",
              "    }\n",
              "\n",
              "    .dataframe tbody tr th {\n",
              "        vertical-align: top;\n",
              "    }\n",
              "\n",
              "    .dataframe thead th {\n",
              "        text-align: right;\n",
              "    }\n",
              "</style>\n",
              "<table border=\"1\" class=\"dataframe\">\n",
              "  <thead>\n",
              "    <tr style=\"text-align: right;\">\n",
              "      <th></th>\n",
              "      <th>PCA1</th>\n",
              "    </tr>\n",
              "  </thead>\n",
              "  <tbody>\n",
              "    <tr>\n",
              "      <th>0</th>\n",
              "      <td>-0.101413</td>\n",
              "    </tr>\n",
              "    <tr>\n",
              "      <th>1</th>\n",
              "      <td>0.103537</td>\n",
              "    </tr>\n",
              "    <tr>\n",
              "      <th>2</th>\n",
              "      <td>-0.140038</td>\n",
              "    </tr>\n",
              "    <tr>\n",
              "      <th>3</th>\n",
              "      <td>-0.138482</td>\n",
              "    </tr>\n",
              "    <tr>\n",
              "      <th>4</th>\n",
              "      <td>0.076496</td>\n",
              "    </tr>\n",
              "    <tr>\n",
              "      <th>5</th>\n",
              "      <td>-0.126693</td>\n",
              "    </tr>\n",
              "    <tr>\n",
              "      <th>6</th>\n",
              "      <td>0.129868</td>\n",
              "    </tr>\n",
              "    <tr>\n",
              "      <th>7</th>\n",
              "      <td>-0.129208</td>\n",
              "    </tr>\n",
              "    <tr>\n",
              "      <th>8</th>\n",
              "      <td>-0.136763</td>\n",
              "    </tr>\n",
              "    <tr>\n",
              "      <th>9</th>\n",
              "      <td>-0.082851</td>\n",
              "    </tr>\n",
              "    <tr>\n",
              "      <th>10</th>\n",
              "      <td>0.082025</td>\n",
              "    </tr>\n",
              "    <tr>\n",
              "      <th>11</th>\n",
              "      <td>-0.125170</td>\n",
              "    </tr>\n",
              "  </tbody>\n",
              "</table>\n",
              "</div>"
            ],
            "text/plain": [
              "        PCA1\n",
              "0  -0.101413\n",
              "1   0.103537\n",
              "2  -0.140038\n",
              "3  -0.138482\n",
              "4   0.076496\n",
              "5  -0.126693\n",
              "6   0.129868\n",
              "7  -0.129208\n",
              "8  -0.136763\n",
              "9  -0.082851\n",
              "10  0.082025\n",
              "11 -0.125170"
            ]
          },
          "metadata": {
            "tags": []
          },
          "execution_count": 291
        }
      ]
    },
    {
      "cell_type": "markdown",
      "metadata": {
        "id": "mWrhjtEfxX2W"
      },
      "source": [
        "###Padronizar os dados"
      ]
    },
    {
      "cell_type": "code",
      "metadata": {
        "id": "qCFXKW_NxeQX"
      },
      "source": [
        "scaler=StandardScaler()\n",
        "data_scaler=scaler.fit_transform(df_boston_cov.iloc[:,0:12])"
      ],
      "execution_count": 294,
      "outputs": []
    },
    {
      "cell_type": "markdown",
      "metadata": {
        "id": "1VTIU5uaxes5"
      },
      "source": [
        "###Distribuir os scores entre as variáveis padronizadas"
      ]
    },
    {
      "cell_type": "code",
      "metadata": {
        "id": "Ue0AozNXr2n7"
      },
      "source": [
        "F1=pd.DataFrame([x*scores['PCA1'] for x in data_scaler])"
      ],
      "execution_count": 295,
      "outputs": []
    },
    {
      "cell_type": "markdown",
      "metadata": {
        "id": "CegOdQ7vxnNQ"
      },
      "source": [
        "###Criação de fatores "
      ]
    },
    {
      "cell_type": "code",
      "metadata": {
        "id": "40LXOjv7sQFR"
      },
      "source": [
        "F1['fator1']=F1.sum(axis=1)"
      ],
      "execution_count": 296,
      "outputs": []
    },
    {
      "cell_type": "code",
      "metadata": {
        "id": "A5QeAcivsYPf"
      },
      "source": [
        "data=pd.DataFrame({'fator1': F1.reset_index()['fator1'], 'MEDV': df_boston['MEDV']})"
      ],
      "execution_count": 349,
      "outputs": []
    },
    {
      "cell_type": "markdown",
      "metadata": {
        "id": "_x2XCTTX2Rzh"
      },
      "source": [
        "##Regressão Linear Simples"
      ]
    },
    {
      "cell_type": "markdown",
      "metadata": {
        "id": "bVDCfHOzpC4U"
      },
      "source": [
        "###Separação de atributos X e Y"
      ]
    },
    {
      "cell_type": "code",
      "metadata": {
        "id": "zhPeYb7_14xc"
      },
      "source": [
        "X=data.iloc[:,0:1].values\n",
        "Y=data.iloc[:,1].values"
      ],
      "execution_count": 346,
      "outputs": []
    },
    {
      "cell_type": "markdown",
      "metadata": {
        "id": "fOdXH_hwogmS"
      },
      "source": [
        "###Criação do algoritmo Manual"
      ]
    },
    {
      "cell_type": "code",
      "metadata": {
        "id": "RyIF-Xpv5dp_"
      },
      "source": [
        "class ManualLinearRegression():\n",
        "    def __init__(self, X, y, alpha=0.03, n_iter=1500):\n",
        "\n",
        "        self.alpha = alpha\n",
        "        self.n_iter = n_iter\n",
        "        self.n_samples = len(y)\n",
        "        self.n_features = np.size(X, 1)\n",
        "        self.X = np.hstack((np.ones(\n",
        "            (self.n_samples, 1)), (X - np.mean(X, 0)) / np.std(X, 0)))\n",
        "        self.y = y[:, np.newaxis]\n",
        "        self.params = np.zeros((self.n_features + 1, 1))\n",
        "        self.coef_ = None\n",
        "        self.intercept_ = None\n",
        "\n",
        "    def fit(self):\n",
        "\n",
        "        for i in range(self.n_iter):\n",
        "            self.params = self.params - (self.alpha/self.n_samples) * \\\n",
        "            self.X.T @ (self.X @ self.params - self.y)\n",
        "\n",
        "        self.intercept_ = self.params[0]\n",
        "        self.coef_ = self.params[1:]\n",
        "\n",
        "        return self\n",
        "\n",
        "    def score(self, X=None, y=None):\n",
        "\n",
        "        if X is None:\n",
        "            X = self.X\n",
        "        else:\n",
        "            n_samples = np.size(X, 0)\n",
        "            X = np.hstack((np.ones(\n",
        "                (n_samples, 1)), (X - np.mean(X, 0)) / np.std(X, 0)))\n",
        "\n",
        "        if y is None:\n",
        "            y = self.y\n",
        "        else:\n",
        "            y = y[:, np.newaxis]\n",
        "\n",
        "        y_pred = X @ self.params\n",
        "        score = 1 - (((y - y_pred)**2).sum() / ((y - y.mean())**2).sum())\n",
        "\n",
        "        return score\n",
        "\n",
        "    def predict(self, X):\n",
        "        n_samples = np.size(X, 0)\n",
        "        y = np.hstack((np.ones((n_samples, 1)), (X-np.mean(X, 0)) \\\n",
        "                            / np.std(X, 0))) @ self.params\n",
        "        return y\n",
        "\n",
        "    def get_params(self):\n",
        "\n",
        "        return self.params"
      ],
      "execution_count": 337,
      "outputs": []
    },
    {
      "cell_type": "markdown",
      "metadata": {
        "id": "KPYXV48InZIE"
      },
      "source": [
        "###Separar base de dados em treinamento e teste"
      ]
    },
    {
      "cell_type": "code",
      "metadata": {
        "colab": {
          "base_uri": "https://localhost:8080/"
        },
        "id": "7oo4ptQynbhZ",
        "outputId": "58b18205-33ec-4e37-c4ce-357e0ee5ca6a"
      },
      "source": [
        "X_train, X_test, y_train, y_test = train_test_split(X, Y, test_size=0.25, random_state=0)\n",
        "\n",
        "print(f'Treinamento: X: {X_train.shape} Y:{y_train.shape}')\n",
        "print(f'Teste: X: {X_test.shape} Y: {y_test.shape}')"
      ],
      "execution_count": 338,
      "outputs": [
        {
          "output_type": "stream",
          "text": [
            "Treinamento: X: (379, 1) Y:(379,)\n",
            "Teste: X: (127, 1) Y: (127,)\n"
          ],
          "name": "stdout"
        }
      ]
    },
    {
      "cell_type": "markdown",
      "metadata": {
        "id": "YXXjnElanzPU"
      },
      "source": [
        "###Treinamento dos modelos"
      ]
    },
    {
      "cell_type": "code",
      "metadata": {
        "id": "9UsDCvbnn1FX"
      },
      "source": [
        "modelo_manual = ManualLinearRegression(X_train, y_train).fit()\n",
        "modelo_sklearn = LinearRegression().fit(X_train, y_train)"
      ],
      "execution_count": 339,
      "outputs": []
    },
    {
      "cell_type": "markdown",
      "metadata": {
        "id": "peQSKFLTn2UN"
      },
      "source": [
        "Acurácia treinamento"
      ]
    },
    {
      "cell_type": "code",
      "metadata": {
        "id": "5rAWHe4xn3Xs"
      },
      "source": [
        "acuracia_train_manual = modelo_manual.score()\n",
        "acuracia_train_sklearn = modelo_sklearn.score(X_train, y_train)"
      ],
      "execution_count": 340,
      "outputs": []
    },
    {
      "cell_type": "markdown",
      "metadata": {
        "id": "zzLl6bAQn5jc"
      },
      "source": [
        "Acurácia teste"
      ]
    },
    {
      "cell_type": "code",
      "metadata": {
        "id": "mjVeqBY9n-CB"
      },
      "source": [
        "acuracia_test_manual = modelo_manual.score(X_test, y_test)\n",
        "acuracia_test_sklearn = modelo_sklearn.score(X_test, y_test)"
      ],
      "execution_count": 341,
      "outputs": []
    },
    {
      "cell_type": "markdown",
      "metadata": {
        "id": "D6r1xXoMn_si"
      },
      "source": [
        "Previsões"
      ]
    },
    {
      "cell_type": "code",
      "metadata": {
        "id": "CFR74d1doAk5"
      },
      "source": [
        "previsoes_manual = modelo_manual.predict(X_test)\n",
        "previsoes_sklearn = modelo_sklearn.predict(X_test)"
      ],
      "execution_count": 342,
      "outputs": []
    },
    {
      "cell_type": "markdown",
      "metadata": {
        "id": "mNpI3ztdoCGC"
      },
      "source": [
        "Visualização das métricas e geral"
      ]
    },
    {
      "cell_type": "code",
      "metadata": {
        "colab": {
          "base_uri": "https://localhost:8080/",
          "height": 110
        },
        "id": "RJQeYuj85eEQ",
        "outputId": "75384e28-7a04-47ef-96a6-dbb1f6bdf29e"
      },
      "source": [
        "pd.DataFrame([[acuracia_train_manual, acuracia_train_sklearn],[acuracia_test_manual, acuracia_test_sklearn]],\n",
        "             ['Acurácia do Treinamento', 'Acurácia do Teste'],    \n",
        "             ['Nossa Implementação', 'Implementação do Sklearn'])"
      ],
      "execution_count": 343,
      "outputs": [
        {
          "output_type": "execute_result",
          "data": {
            "text/html": [
              "<div>\n",
              "<style scoped>\n",
              "    .dataframe tbody tr th:only-of-type {\n",
              "        vertical-align: middle;\n",
              "    }\n",
              "\n",
              "    .dataframe tbody tr th {\n",
              "        vertical-align: top;\n",
              "    }\n",
              "\n",
              "    .dataframe thead th {\n",
              "        text-align: right;\n",
              "    }\n",
              "</style>\n",
              "<table border=\"1\" class=\"dataframe\">\n",
              "  <thead>\n",
              "    <tr style=\"text-align: right;\">\n",
              "      <th></th>\n",
              "      <th>Nossa Implementação</th>\n",
              "      <th>Implementação do Sklearn</th>\n",
              "    </tr>\n",
              "  </thead>\n",
              "  <tbody>\n",
              "    <tr>\n",
              "      <th>Acurácia do Treinamento</th>\n",
              "      <td>0.428500</td>\n",
              "      <td>0.428500</td>\n",
              "    </tr>\n",
              "    <tr>\n",
              "      <th>Acurácia do Teste</th>\n",
              "      <td>0.197078</td>\n",
              "      <td>0.197917</td>\n",
              "    </tr>\n",
              "  </tbody>\n",
              "</table>\n",
              "</div>"
            ],
            "text/plain": [
              "                         Nossa Implementação  Implementação do Sklearn\n",
              "Acurácia do Treinamento             0.428500                  0.428500\n",
              "Acurácia do Teste                   0.197078                  0.197917"
            ]
          },
          "metadata": {
            "tags": []
          },
          "execution_count": 343
        }
      ]
    },
    {
      "cell_type": "markdown",
      "metadata": {
        "id": "jI68XjOKpNg5"
      },
      "source": [
        "###Plotagem dos gráficos"
      ]
    },
    {
      "cell_type": "markdown",
      "metadata": {
        "id": "-F8SwU0DoGcR"
      },
      "source": [
        "Gráfico com a comparação dos resultados esperados com as previsões manuais"
      ]
    },
    {
      "cell_type": "code",
      "metadata": {
        "colab": {
          "base_uri": "https://localhost:8080/",
          "height": 542
        },
        "id": "kSZsA-evAcvy",
        "outputId": "45b1b1a8-2370-4b49-97b9-c7d5b74a9b73"
      },
      "source": [
        "grafico1=px.scatter(x=X_test.ravel(),y=y_test)\n",
        "grafico2=px.line(x=X_test.ravel(),y=previsoes_manual.ravel())\n",
        "grafico2.data[0].line.color='red'\n",
        "grafico3=go.Figure(data=grafico1.data+grafico2.data)\n",
        "grafico3"
      ],
      "execution_count": 344,
      "outputs": [
        {
          "output_type": "display_data",
          "data": {
            "text/html": [
              "<html>\n",
              "<head><meta charset=\"utf-8\" /></head>\n",
              "<body>\n",
              "    <div>            <script src=\"https://cdnjs.cloudflare.com/ajax/libs/mathjax/2.7.5/MathJax.js?config=TeX-AMS-MML_SVG\"></script><script type=\"text/javascript\">if (window.MathJax) {MathJax.Hub.Config({SVG: {font: \"STIX-Web\"}});}</script>                <script type=\"text/javascript\">window.PlotlyConfig = {MathJaxConfig: 'local'};</script>\n",
              "        <script src=\"https://cdn.plot.ly/plotly-2.2.0.min.js\"></script>                <div id=\"a81af4f4-3fc9-49ab-a7a6-21c17ab7d97d\" class=\"plotly-graph-div\" style=\"height:525px; width:100%;\"></div>            <script type=\"text/javascript\">                                    window.PLOTLYENV=window.PLOTLYENV || {};                                    if (document.getElementById(\"a81af4f4-3fc9-49ab-a7a6-21c17ab7d97d\")) {                    Plotly.newPlot(                        \"a81af4f4-3fc9-49ab-a7a6-21c17ab7d97d\",                        [{\"hovertemplate\":\"x=%{x}<br>y=%{y}<extra></extra>\",\"legendgroup\":\"\",\"marker\":{\"color\":\"#636efa\",\"symbol\":\"circle\"},\"mode\":\"markers\",\"name\":\"\",\"orientation\":\"v\",\"showlegend\":false,\"type\":\"scatter\",\"x\":[0.8245852749039316,-1.089066226194724,0.14064089981057049,-1.5425091802072237,0.33296968103458974,0.29028478427834475,-0.6942102723717094,0.4796811484356737,0.07992270939766871,-0.2737567234343772,-2.403559868865089,-1.5379553322212764,-1.28734974516962,-1.8039075506883977,0.09503280399302326,1.665344457883141,-0.6229001481867665,1.7928401780097054,0.7261711878948091,0.4951500954005886,0.5295461874235177,-0.30924675533211277,-0.11427969595483804,0.9740376388891554,0.7156536500905627,-1.6528205921679882,0.027742393758957668,-0.840283460786865,0.854265595283622,-0.18021790985546793,-1.1441808696189892,-1.0703625249371809,0.6902982558655988,0.804739311898703,0.3909238602914546,-1.2477066719183108,-1.6237421308090711,-1.1197108426086217,-1.2890898595397713,-1.2421423817169048,0.7703809112573521,0.6599106119981932,0.7406732416839718,-1.1696612310739625,0.7589822870428399,0.5882315265411145,0.4776319287202935,-0.7018992234415449,-1.0650277842836084,0.10353784611266333,-0.8720988261132085,0.018382269202594573,0.2915249817491767,1.4159904340084672,-0.8155620041629936,0.5904633531945946,0.9929020774582102,0.692318306024058,-1.9150277333791992,0.07893382553359833,1.435230164112542,0.26615739616031175,1.1602588206321083,0.6871989207500254,-0.8951097799155859,1.1098818056140112,-1.1668814093964044,0.3669101508277466,-1.370055438039012,0.5061218478149432,0.17950135267840633,0.40282078608201555,1.5033566611139473,1.1831938508076083,-0.5686429160064015,-1.7594061919873514,0.6613805274069147,0.43806891441773416,0.5591520474389793,-0.08701368266120721,1.0332393288437909,-0.5970466900892395,-1.2899910080516124,0.5870266918958379,0.6020363994135012,0.6934142579944679,0.545790743118289,-1.2922256105177246,-0.5029514928015243,-1.153549195627737,0.8581877929574837,-1.5854607474433406,1.596113533804616,1.472459539868868,0.05030886720457059,0.9053281820023064,-1.9424670893787224,1.6375999138821473,-1.3959855641489118,0.6112023148996854,0.5299365770448793,-0.07214705173056868,0.29990296467863864,0.6580658538080686,0.9555797178935,0.5484898565281522,-1.87938311091702,-1.313120907611591,0.04413181441476122,1.0311358703870848,-0.06825524635192223,-1.4073219048106516,0.33969674961974383,-0.129224735093619,0.07212697009635,0.29681622207612574,-1.9047936452288807,-0.5236505107136457,-1.5329811027071052,1.9686518556081212,1.2448385053539353,-1.4464100626898961,0.5351690158953377,-0.0474211564107656,0.16454491465335191,-0.4140016314174462,0.8215721153719036],\"xaxis\":\"x\",\"y\":[22.6,50.0,23.0,8.3,21.2,19.9,20.6,18.7,16.1,18.6,8.8,17.2,14.9,10.5,50.0,29.0,23.0,33.3,29.4,21.0,23.8,19.1,20.4,29.1,19.3,23.1,19.6,19.4,38.7,18.7,14.6,20.0,20.5,20.1,23.6,16.8,5.6,50.0,14.5,13.3,23.9,20.0,19.8,13.8,16.5,21.6,20.3,17.0,11.8,27.5,15.6,23.1,24.3,42.8,15.6,21.7,17.1,17.2,15.0,21.7,18.6,21.0,33.1,31.5,20.1,29.8,15.2,15.0,27.5,22.6,20.0,21.4,23.5,31.2,23.7,7.4,48.3,24.4,22.6,18.3,23.3,17.1,27.9,44.8,50.0,23.0,21.4,10.2,23.3,23.2,18.9,13.4,21.9,24.8,11.9,24.3,13.8,24.7,14.1,18.7,28.1,19.8,26.7,21.7,22.0,22.9,10.4,21.9,20.6,26.4,41.3,17.2,27.1,20.4,16.5,24.4,8.4,23.0,9.7,50.0,30.5,12.3,19.4,21.2,20.3,18.8,33.4],\"yaxis\":\"y\"},{\"hovertemplate\":\"x=%{x}<br>y=%{y}<extra></extra>\",\"legendgroup\":\"\",\"line\":{\"color\":\"red\",\"dash\":\"solid\"},\"mode\":\"lines\",\"name\":\"\",\"orientation\":\"v\",\"showlegend\":false,\"type\":\"scatter\",\"x\":[0.8245852749039316,-1.089066226194724,0.14064089981057049,-1.5425091802072237,0.33296968103458974,0.29028478427834475,-0.6942102723717094,0.4796811484356737,0.07992270939766871,-0.2737567234343772,-2.403559868865089,-1.5379553322212764,-1.28734974516962,-1.8039075506883977,0.09503280399302326,1.665344457883141,-0.6229001481867665,1.7928401780097054,0.7261711878948091,0.4951500954005886,0.5295461874235177,-0.30924675533211277,-0.11427969595483804,0.9740376388891554,0.7156536500905627,-1.6528205921679882,0.027742393758957668,-0.840283460786865,0.854265595283622,-0.18021790985546793,-1.1441808696189892,-1.0703625249371809,0.6902982558655988,0.804739311898703,0.3909238602914546,-1.2477066719183108,-1.6237421308090711,-1.1197108426086217,-1.2890898595397713,-1.2421423817169048,0.7703809112573521,0.6599106119981932,0.7406732416839718,-1.1696612310739625,0.7589822870428399,0.5882315265411145,0.4776319287202935,-0.7018992234415449,-1.0650277842836084,0.10353784611266333,-0.8720988261132085,0.018382269202594573,0.2915249817491767,1.4159904340084672,-0.8155620041629936,0.5904633531945946,0.9929020774582102,0.692318306024058,-1.9150277333791992,0.07893382553359833,1.435230164112542,0.26615739616031175,1.1602588206321083,0.6871989207500254,-0.8951097799155859,1.1098818056140112,-1.1668814093964044,0.3669101508277466,-1.370055438039012,0.5061218478149432,0.17950135267840633,0.40282078608201555,1.5033566611139473,1.1831938508076083,-0.5686429160064015,-1.7594061919873514,0.6613805274069147,0.43806891441773416,0.5591520474389793,-0.08701368266120721,1.0332393288437909,-0.5970466900892395,-1.2899910080516124,0.5870266918958379,0.6020363994135012,0.6934142579944679,0.545790743118289,-1.2922256105177246,-0.5029514928015243,-1.153549195627737,0.8581877929574837,-1.5854607474433406,1.596113533804616,1.472459539868868,0.05030886720457059,0.9053281820023064,-1.9424670893787224,1.6375999138821473,-1.3959855641489118,0.6112023148996854,0.5299365770448793,-0.07214705173056868,0.29990296467863864,0.6580658538080686,0.9555797178935,0.5484898565281522,-1.87938311091702,-1.313120907611591,0.04413181441476122,1.0311358703870848,-0.06825524635192223,-1.4073219048106516,0.33969674961974383,-0.129224735093619,0.07212697009635,0.29681622207612574,-1.9047936452288807,-0.5236505107136457,-1.5329811027071052,1.9686518556081212,1.2448385053539353,-1.4464100626898961,0.5351690158953377,-0.0474211564107656,0.16454491465335191,-0.4140016314174462,0.8215721153719036],\"xaxis\":\"x\",\"y\":[27.84489485187151,16.28067972339084,23.711812164165273,13.540519424776475,24.874056909457792,24.616111652161564,18.666798194883295,25.760635771840608,23.34489153324385,21.207603189237293,8.33718151583678,13.568038373624612,15.082450438413172,11.96088646196004,23.43620198575417,32.92561098938937,19.09772598734703,33.69606889912774,27.25017754143483,25.854114772803236,26.06197070033435,20.99313657212,22.1713244586352,28.748036979679462,27.18661995546873,12.873906460865149,23.02956536483145,17.784076458785506,28.024253324276707,21.77285917365678,15.947621382871787,16.393706376842047,27.033397054999874,27.724965499273832,25.22427459336531,15.322013925897211,13.049627893198398,16.095494000422665,15.071934909899733,15.355638987142381,27.517337341137935,26.84976421969596,27.337813597282192,15.793643304184219,27.448455341197167,26.416606790580722,25.748252316639608,18.620333786795985,16.42594426787766,23.487598040203917,17.59181588844978,22.973002038678796,24.62360617786087,31.41876213337587,17.933468468001248,26.430093741331945,28.86203497030906,27.04560423827715,11.289386088451721,23.33891569817951,31.535028014498785,24.47030960485823,29.87337344032501,27.014667741950362,17.452760464863275,29.568944635568496,15.810441794337539,25.079159507305114,14.582659110607352,25.92041718219344,23.94664626885771,25.29616783470556,31.946717116104665,30.01197005667622,19.425602983158146,12.22980861692563,26.858646933187607,25.509172626182234,26.240879208015045,22.33609324921308,29.1057933831897,19.25395869277083,15.066489260444932,26.40932596278934,26.500029775186828,27.052227086977148,26.16013671259576,15.052985535430256,19.82257690949799,15.891008495260484,28.04795520398204,13.280962675107743,32.50724782392903,31.76000550392046,23.165934789183996,28.33282504566514,11.123569786171355,32.75795043296889,14.42596309961927,26.555419493989262,26.064329828714182,22.425932448366595,24.674234412355716,26.83861632753358,28.636495578804897,26.176447481881553,11.504786897893494,14.926715046457598,23.12860679749882,29.093082162733307,22.449450667128477,14.357457479809792,24.91470865208601,22.081011437896993,23.29778180280743,24.65558119598836,11.351230785328958,19.697492537580416,13.598097692245211,34.7585006222915,30.38448931960645,14.121247351459836,26.095949508932122,22.575351280666172,23.856264364535935,20.360101809984553,27.826686298733804],\"yaxis\":\"y\"}],                        {\"template\":{\"data\":{\"bar\":[{\"error_x\":{\"color\":\"#2a3f5f\"},\"error_y\":{\"color\":\"#2a3f5f\"},\"marker\":{\"line\":{\"color\":\"#E5ECF6\",\"width\":0.5},\"pattern\":{\"fillmode\":\"overlay\",\"size\":10,\"solidity\":0.2}},\"type\":\"bar\"}],\"barpolar\":[{\"marker\":{\"line\":{\"color\":\"#E5ECF6\",\"width\":0.5},\"pattern\":{\"fillmode\":\"overlay\",\"size\":10,\"solidity\":0.2}},\"type\":\"barpolar\"}],\"carpet\":[{\"aaxis\":{\"endlinecolor\":\"#2a3f5f\",\"gridcolor\":\"white\",\"linecolor\":\"white\",\"minorgridcolor\":\"white\",\"startlinecolor\":\"#2a3f5f\"},\"baxis\":{\"endlinecolor\":\"#2a3f5f\",\"gridcolor\":\"white\",\"linecolor\":\"white\",\"minorgridcolor\":\"white\",\"startlinecolor\":\"#2a3f5f\"},\"type\":\"carpet\"}],\"choropleth\":[{\"colorbar\":{\"outlinewidth\":0,\"ticks\":\"\"},\"type\":\"choropleth\"}],\"contour\":[{\"colorbar\":{\"outlinewidth\":0,\"ticks\":\"\"},\"colorscale\":[[0.0,\"#0d0887\"],[0.1111111111111111,\"#46039f\"],[0.2222222222222222,\"#7201a8\"],[0.3333333333333333,\"#9c179e\"],[0.4444444444444444,\"#bd3786\"],[0.5555555555555556,\"#d8576b\"],[0.6666666666666666,\"#ed7953\"],[0.7777777777777778,\"#fb9f3a\"],[0.8888888888888888,\"#fdca26\"],[1.0,\"#f0f921\"]],\"type\":\"contour\"}],\"contourcarpet\":[{\"colorbar\":{\"outlinewidth\":0,\"ticks\":\"\"},\"type\":\"contourcarpet\"}],\"heatmap\":[{\"colorbar\":{\"outlinewidth\":0,\"ticks\":\"\"},\"colorscale\":[[0.0,\"#0d0887\"],[0.1111111111111111,\"#46039f\"],[0.2222222222222222,\"#7201a8\"],[0.3333333333333333,\"#9c179e\"],[0.4444444444444444,\"#bd3786\"],[0.5555555555555556,\"#d8576b\"],[0.6666666666666666,\"#ed7953\"],[0.7777777777777778,\"#fb9f3a\"],[0.8888888888888888,\"#fdca26\"],[1.0,\"#f0f921\"]],\"type\":\"heatmap\"}],\"heatmapgl\":[{\"colorbar\":{\"outlinewidth\":0,\"ticks\":\"\"},\"colorscale\":[[0.0,\"#0d0887\"],[0.1111111111111111,\"#46039f\"],[0.2222222222222222,\"#7201a8\"],[0.3333333333333333,\"#9c179e\"],[0.4444444444444444,\"#bd3786\"],[0.5555555555555556,\"#d8576b\"],[0.6666666666666666,\"#ed7953\"],[0.7777777777777778,\"#fb9f3a\"],[0.8888888888888888,\"#fdca26\"],[1.0,\"#f0f921\"]],\"type\":\"heatmapgl\"}],\"histogram\":[{\"marker\":{\"pattern\":{\"fillmode\":\"overlay\",\"size\":10,\"solidity\":0.2}},\"type\":\"histogram\"}],\"histogram2d\":[{\"colorbar\":{\"outlinewidth\":0,\"ticks\":\"\"},\"colorscale\":[[0.0,\"#0d0887\"],[0.1111111111111111,\"#46039f\"],[0.2222222222222222,\"#7201a8\"],[0.3333333333333333,\"#9c179e\"],[0.4444444444444444,\"#bd3786\"],[0.5555555555555556,\"#d8576b\"],[0.6666666666666666,\"#ed7953\"],[0.7777777777777778,\"#fb9f3a\"],[0.8888888888888888,\"#fdca26\"],[1.0,\"#f0f921\"]],\"type\":\"histogram2d\"}],\"histogram2dcontour\":[{\"colorbar\":{\"outlinewidth\":0,\"ticks\":\"\"},\"colorscale\":[[0.0,\"#0d0887\"],[0.1111111111111111,\"#46039f\"],[0.2222222222222222,\"#7201a8\"],[0.3333333333333333,\"#9c179e\"],[0.4444444444444444,\"#bd3786\"],[0.5555555555555556,\"#d8576b\"],[0.6666666666666666,\"#ed7953\"],[0.7777777777777778,\"#fb9f3a\"],[0.8888888888888888,\"#fdca26\"],[1.0,\"#f0f921\"]],\"type\":\"histogram2dcontour\"}],\"mesh3d\":[{\"colorbar\":{\"outlinewidth\":0,\"ticks\":\"\"},\"type\":\"mesh3d\"}],\"parcoords\":[{\"line\":{\"colorbar\":{\"outlinewidth\":0,\"ticks\":\"\"}},\"type\":\"parcoords\"}],\"pie\":[{\"automargin\":true,\"type\":\"pie\"}],\"scatter\":[{\"marker\":{\"colorbar\":{\"outlinewidth\":0,\"ticks\":\"\"}},\"type\":\"scatter\"}],\"scatter3d\":[{\"line\":{\"colorbar\":{\"outlinewidth\":0,\"ticks\":\"\"}},\"marker\":{\"colorbar\":{\"outlinewidth\":0,\"ticks\":\"\"}},\"type\":\"scatter3d\"}],\"scattercarpet\":[{\"marker\":{\"colorbar\":{\"outlinewidth\":0,\"ticks\":\"\"}},\"type\":\"scattercarpet\"}],\"scattergeo\":[{\"marker\":{\"colorbar\":{\"outlinewidth\":0,\"ticks\":\"\"}},\"type\":\"scattergeo\"}],\"scattergl\":[{\"marker\":{\"colorbar\":{\"outlinewidth\":0,\"ticks\":\"\"}},\"type\":\"scattergl\"}],\"scattermapbox\":[{\"marker\":{\"colorbar\":{\"outlinewidth\":0,\"ticks\":\"\"}},\"type\":\"scattermapbox\"}],\"scatterpolar\":[{\"marker\":{\"colorbar\":{\"outlinewidth\":0,\"ticks\":\"\"}},\"type\":\"scatterpolar\"}],\"scatterpolargl\":[{\"marker\":{\"colorbar\":{\"outlinewidth\":0,\"ticks\":\"\"}},\"type\":\"scatterpolargl\"}],\"scatterternary\":[{\"marker\":{\"colorbar\":{\"outlinewidth\":0,\"ticks\":\"\"}},\"type\":\"scatterternary\"}],\"surface\":[{\"colorbar\":{\"outlinewidth\":0,\"ticks\":\"\"},\"colorscale\":[[0.0,\"#0d0887\"],[0.1111111111111111,\"#46039f\"],[0.2222222222222222,\"#7201a8\"],[0.3333333333333333,\"#9c179e\"],[0.4444444444444444,\"#bd3786\"],[0.5555555555555556,\"#d8576b\"],[0.6666666666666666,\"#ed7953\"],[0.7777777777777778,\"#fb9f3a\"],[0.8888888888888888,\"#fdca26\"],[1.0,\"#f0f921\"]],\"type\":\"surface\"}],\"table\":[{\"cells\":{\"fill\":{\"color\":\"#EBF0F8\"},\"line\":{\"color\":\"white\"}},\"header\":{\"fill\":{\"color\":\"#C8D4E3\"},\"line\":{\"color\":\"white\"}},\"type\":\"table\"}]},\"layout\":{\"annotationdefaults\":{\"arrowcolor\":\"#2a3f5f\",\"arrowhead\":0,\"arrowwidth\":1},\"autotypenumbers\":\"strict\",\"coloraxis\":{\"colorbar\":{\"outlinewidth\":0,\"ticks\":\"\"}},\"colorscale\":{\"diverging\":[[0,\"#8e0152\"],[0.1,\"#c51b7d\"],[0.2,\"#de77ae\"],[0.3,\"#f1b6da\"],[0.4,\"#fde0ef\"],[0.5,\"#f7f7f7\"],[0.6,\"#e6f5d0\"],[0.7,\"#b8e186\"],[0.8,\"#7fbc41\"],[0.9,\"#4d9221\"],[1,\"#276419\"]],\"sequential\":[[0.0,\"#0d0887\"],[0.1111111111111111,\"#46039f\"],[0.2222222222222222,\"#7201a8\"],[0.3333333333333333,\"#9c179e\"],[0.4444444444444444,\"#bd3786\"],[0.5555555555555556,\"#d8576b\"],[0.6666666666666666,\"#ed7953\"],[0.7777777777777778,\"#fb9f3a\"],[0.8888888888888888,\"#fdca26\"],[1.0,\"#f0f921\"]],\"sequentialminus\":[[0.0,\"#0d0887\"],[0.1111111111111111,\"#46039f\"],[0.2222222222222222,\"#7201a8\"],[0.3333333333333333,\"#9c179e\"],[0.4444444444444444,\"#bd3786\"],[0.5555555555555556,\"#d8576b\"],[0.6666666666666666,\"#ed7953\"],[0.7777777777777778,\"#fb9f3a\"],[0.8888888888888888,\"#fdca26\"],[1.0,\"#f0f921\"]]},\"colorway\":[\"#636efa\",\"#EF553B\",\"#00cc96\",\"#ab63fa\",\"#FFA15A\",\"#19d3f3\",\"#FF6692\",\"#B6E880\",\"#FF97FF\",\"#FECB52\"],\"font\":{\"color\":\"#2a3f5f\"},\"geo\":{\"bgcolor\":\"white\",\"lakecolor\":\"white\",\"landcolor\":\"#E5ECF6\",\"showlakes\":true,\"showland\":true,\"subunitcolor\":\"white\"},\"hoverlabel\":{\"align\":\"left\"},\"hovermode\":\"closest\",\"mapbox\":{\"style\":\"light\"},\"paper_bgcolor\":\"white\",\"plot_bgcolor\":\"#E5ECF6\",\"polar\":{\"angularaxis\":{\"gridcolor\":\"white\",\"linecolor\":\"white\",\"ticks\":\"\"},\"bgcolor\":\"#E5ECF6\",\"radialaxis\":{\"gridcolor\":\"white\",\"linecolor\":\"white\",\"ticks\":\"\"}},\"scene\":{\"xaxis\":{\"backgroundcolor\":\"#E5ECF6\",\"gridcolor\":\"white\",\"gridwidth\":2,\"linecolor\":\"white\",\"showbackground\":true,\"ticks\":\"\",\"zerolinecolor\":\"white\"},\"yaxis\":{\"backgroundcolor\":\"#E5ECF6\",\"gridcolor\":\"white\",\"gridwidth\":2,\"linecolor\":\"white\",\"showbackground\":true,\"ticks\":\"\",\"zerolinecolor\":\"white\"},\"zaxis\":{\"backgroundcolor\":\"#E5ECF6\",\"gridcolor\":\"white\",\"gridwidth\":2,\"linecolor\":\"white\",\"showbackground\":true,\"ticks\":\"\",\"zerolinecolor\":\"white\"}},\"shapedefaults\":{\"line\":{\"color\":\"#2a3f5f\"}},\"ternary\":{\"aaxis\":{\"gridcolor\":\"white\",\"linecolor\":\"white\",\"ticks\":\"\"},\"baxis\":{\"gridcolor\":\"white\",\"linecolor\":\"white\",\"ticks\":\"\"},\"bgcolor\":\"#E5ECF6\",\"caxis\":{\"gridcolor\":\"white\",\"linecolor\":\"white\",\"ticks\":\"\"}},\"title\":{\"x\":0.05},\"xaxis\":{\"automargin\":true,\"gridcolor\":\"white\",\"linecolor\":\"white\",\"ticks\":\"\",\"title\":{\"standoff\":15},\"zerolinecolor\":\"white\",\"zerolinewidth\":2},\"yaxis\":{\"automargin\":true,\"gridcolor\":\"white\",\"linecolor\":\"white\",\"ticks\":\"\",\"title\":{\"standoff\":15},\"zerolinecolor\":\"white\",\"zerolinewidth\":2}}}},                        {\"responsive\": true}                    ).then(function(){\n",
              "                            \n",
              "var gd = document.getElementById('a81af4f4-3fc9-49ab-a7a6-21c17ab7d97d');\n",
              "var x = new MutationObserver(function (mutations, observer) {{\n",
              "        var display = window.getComputedStyle(gd).display;\n",
              "        if (!display || display === 'none') {{\n",
              "            console.log([gd, 'removed!']);\n",
              "            Plotly.purge(gd);\n",
              "            observer.disconnect();\n",
              "        }}\n",
              "}});\n",
              "\n",
              "// Listen for the removal of the full notebook cells\n",
              "var notebookContainer = gd.closest('#notebook-container');\n",
              "if (notebookContainer) {{\n",
              "    x.observe(notebookContainer, {childList: true});\n",
              "}}\n",
              "\n",
              "// Listen for the clearing of the current output cell\n",
              "var outputEl = gd.closest('.output');\n",
              "if (outputEl) {{\n",
              "    x.observe(outputEl, {childList: true});\n",
              "}}\n",
              "\n",
              "                        })                };                            </script>        </div>\n",
              "</body>\n",
              "</html>"
            ]
          },
          "metadata": {
            "tags": []
          }
        }
      ]
    },
    {
      "cell_type": "markdown",
      "metadata": {
        "id": "WSDJn0_VoYlv"
      },
      "source": [
        "Gráfico com a comparação dos resultados esperados com as previsões Sklearn"
      ]
    },
    {
      "cell_type": "code",
      "metadata": {
        "colab": {
          "base_uri": "https://localhost:8080/",
          "height": 542
        },
        "id": "pGRdxFXu8_Po",
        "outputId": "76d340ef-2cd9-47c7-e9e5-021be9a928a1"
      },
      "source": [
        "grafico1=px.scatter(x=X_test.ravel(),y=y_test)\n",
        "grafico2=px.line(x=X_test.ravel(),y=previsoes_sklearn)\n",
        "grafico2.data[0].line.color='red'\n",
        "grafico3=go.Figure(data=grafico1.data+grafico2.data)\n",
        "grafico3"
      ],
      "execution_count": 345,
      "outputs": [
        {
          "output_type": "display_data",
          "data": {
            "text/html": [
              "<html>\n",
              "<head><meta charset=\"utf-8\" /></head>\n",
              "<body>\n",
              "    <div>            <script src=\"https://cdnjs.cloudflare.com/ajax/libs/mathjax/2.7.5/MathJax.js?config=TeX-AMS-MML_SVG\"></script><script type=\"text/javascript\">if (window.MathJax) {MathJax.Hub.Config({SVG: {font: \"STIX-Web\"}});}</script>                <script type=\"text/javascript\">window.PlotlyConfig = {MathJaxConfig: 'local'};</script>\n",
              "        <script src=\"https://cdn.plot.ly/plotly-2.2.0.min.js\"></script>                <div id=\"36209009-389a-4b7f-b9fe-5ed1a81de292\" class=\"plotly-graph-div\" style=\"height:525px; width:100%;\"></div>            <script type=\"text/javascript\">                                    window.PLOTLYENV=window.PLOTLYENV || {};                                    if (document.getElementById(\"36209009-389a-4b7f-b9fe-5ed1a81de292\")) {                    Plotly.newPlot(                        \"36209009-389a-4b7f-b9fe-5ed1a81de292\",                        [{\"hovertemplate\":\"x=%{x}<br>y=%{y}<extra></extra>\",\"legendgroup\":\"\",\"marker\":{\"color\":\"#636efa\",\"symbol\":\"circle\"},\"mode\":\"markers\",\"name\":\"\",\"orientation\":\"v\",\"showlegend\":false,\"type\":\"scatter\",\"x\":[0.8245852749039316,-1.089066226194724,0.14064089981057049,-1.5425091802072237,0.33296968103458974,0.29028478427834475,-0.6942102723717094,0.4796811484356737,0.07992270939766871,-0.2737567234343772,-2.403559868865089,-1.5379553322212764,-1.28734974516962,-1.8039075506883977,0.09503280399302326,1.665344457883141,-0.6229001481867665,1.7928401780097054,0.7261711878948091,0.4951500954005886,0.5295461874235177,-0.30924675533211277,-0.11427969595483804,0.9740376388891554,0.7156536500905627,-1.6528205921679882,0.027742393758957668,-0.840283460786865,0.854265595283622,-0.18021790985546793,-1.1441808696189892,-1.0703625249371809,0.6902982558655988,0.804739311898703,0.3909238602914546,-1.2477066719183108,-1.6237421308090711,-1.1197108426086217,-1.2890898595397713,-1.2421423817169048,0.7703809112573521,0.6599106119981932,0.7406732416839718,-1.1696612310739625,0.7589822870428399,0.5882315265411145,0.4776319287202935,-0.7018992234415449,-1.0650277842836084,0.10353784611266333,-0.8720988261132085,0.018382269202594573,0.2915249817491767,1.4159904340084672,-0.8155620041629936,0.5904633531945946,0.9929020774582102,0.692318306024058,-1.9150277333791992,0.07893382553359833,1.435230164112542,0.26615739616031175,1.1602588206321083,0.6871989207500254,-0.8951097799155859,1.1098818056140112,-1.1668814093964044,0.3669101508277466,-1.370055438039012,0.5061218478149432,0.17950135267840633,0.40282078608201555,1.5033566611139473,1.1831938508076083,-0.5686429160064015,-1.7594061919873514,0.6613805274069147,0.43806891441773416,0.5591520474389793,-0.08701368266120721,1.0332393288437909,-0.5970466900892395,-1.2899910080516124,0.5870266918958379,0.6020363994135012,0.6934142579944679,0.545790743118289,-1.2922256105177246,-0.5029514928015243,-1.153549195627737,0.8581877929574837,-1.5854607474433406,1.596113533804616,1.472459539868868,0.05030886720457059,0.9053281820023064,-1.9424670893787224,1.6375999138821473,-1.3959855641489118,0.6112023148996854,0.5299365770448793,-0.07214705173056868,0.29990296467863864,0.6580658538080686,0.9555797178935,0.5484898565281522,-1.87938311091702,-1.313120907611591,0.04413181441476122,1.0311358703870848,-0.06825524635192223,-1.4073219048106516,0.33969674961974383,-0.129224735093619,0.07212697009635,0.29681622207612574,-1.9047936452288807,-0.5236505107136457,-1.5329811027071052,1.9686518556081212,1.2448385053539353,-1.4464100626898961,0.5351690158953377,-0.0474211564107656,0.16454491465335191,-0.4140016314174462,0.8215721153719036],\"xaxis\":\"x\",\"y\":[22.6,50.0,23.0,8.3,21.2,19.9,20.6,18.7,16.1,18.6,8.8,17.2,14.9,10.5,50.0,29.0,23.0,33.3,29.4,21.0,23.8,19.1,20.4,29.1,19.3,23.1,19.6,19.4,38.7,18.7,14.6,20.0,20.5,20.1,23.6,16.8,5.6,50.0,14.5,13.3,23.9,20.0,19.8,13.8,16.5,21.6,20.3,17.0,11.8,27.5,15.6,23.1,24.3,42.8,15.6,21.7,17.1,17.2,15.0,21.7,18.6,21.0,33.1,31.5,20.1,29.8,15.2,15.0,27.5,22.6,20.0,21.4,23.5,31.2,23.7,7.4,48.3,24.4,22.6,18.3,23.3,17.1,27.9,44.8,50.0,23.0,21.4,10.2,23.3,23.2,18.9,13.4,21.9,24.8,11.9,24.3,13.8,24.7,14.1,18.7,28.1,19.8,26.7,21.7,22.0,22.9,10.4,21.9,20.6,26.4,41.3,17.2,27.1,20.4,16.5,24.4,8.4,23.0,9.7,50.0,30.5,12.3,19.4,21.2,20.3,18.8,33.4],\"yaxis\":\"y\"},{\"hovertemplate\":\"x=%{x}<br>y=%{y}<extra></extra>\",\"legendgroup\":\"\",\"line\":{\"color\":\"red\",\"dash\":\"solid\"},\"mode\":\"lines\",\"name\":\"\",\"orientation\":\"v\",\"showlegend\":false,\"type\":\"scatter\",\"x\":[0.8245852749039316,-1.089066226194724,0.14064089981057049,-1.5425091802072237,0.33296968103458974,0.29028478427834475,-0.6942102723717094,0.4796811484356737,0.07992270939766871,-0.2737567234343772,-2.403559868865089,-1.5379553322212764,-1.28734974516962,-1.8039075506883977,0.09503280399302326,1.665344457883141,-0.6229001481867665,1.7928401780097054,0.7261711878948091,0.4951500954005886,0.5295461874235177,-0.30924675533211277,-0.11427969595483804,0.9740376388891554,0.7156536500905627,-1.6528205921679882,0.027742393758957668,-0.840283460786865,0.854265595283622,-0.18021790985546793,-1.1441808696189892,-1.0703625249371809,0.6902982558655988,0.804739311898703,0.3909238602914546,-1.2477066719183108,-1.6237421308090711,-1.1197108426086217,-1.2890898595397713,-1.2421423817169048,0.7703809112573521,0.6599106119981932,0.7406732416839718,-1.1696612310739625,0.7589822870428399,0.5882315265411145,0.4776319287202935,-0.7018992234415449,-1.0650277842836084,0.10353784611266333,-0.8720988261132085,0.018382269202594573,0.2915249817491767,1.4159904340084672,-0.8155620041629936,0.5904633531945946,0.9929020774582102,0.692318306024058,-1.9150277333791992,0.07893382553359833,1.435230164112542,0.26615739616031175,1.1602588206321083,0.6871989207500254,-0.8951097799155859,1.1098818056140112,-1.1668814093964044,0.3669101508277466,-1.370055438039012,0.5061218478149432,0.17950135267840633,0.40282078608201555,1.5033566611139473,1.1831938508076083,-0.5686429160064015,-1.7594061919873514,0.6613805274069147,0.43806891441773416,0.5591520474389793,-0.08701368266120721,1.0332393288437909,-0.5970466900892395,-1.2899910080516124,0.5870266918958379,0.6020363994135012,0.6934142579944679,0.545790743118289,-1.2922256105177246,-0.5029514928015243,-1.153549195627737,0.8581877929574837,-1.5854607474433406,1.596113533804616,1.472459539868868,0.05030886720457059,0.9053281820023064,-1.9424670893787224,1.6375999138821473,-1.3959855641489118,0.6112023148996854,0.5299365770448793,-0.07214705173056868,0.29990296467863864,0.6580658538080686,0.9555797178935,0.5484898565281522,-1.87938311091702,-1.313120907611591,0.04413181441476122,1.0311358703870848,-0.06825524635192223,-1.4073219048106516,0.33969674961974383,-0.129224735093619,0.07212697009635,0.29681622207612574,-1.9047936452288807,-0.5236505107136457,-1.5329811027071052,1.9686518556081212,1.2448385053539353,-1.4464100626898961,0.5351690158953377,-0.0474211564107656,0.16454491465335191,-0.4140016314174462,0.8215721153719036],\"xaxis\":\"x\",\"y\":[27.512039360692953,15.93553752071875,23.374565368086333,13.19246586507228,24.538044971578188,24.27982565340344,18.324191187978744,25.425565803526368,23.007254892468744,20.867695728958267,7.983599529777644,13.220014052168006,14.736035144799413,11.61115457871515,23.098662360226005,32.59815364176562,18.755576831269508,33.36943014523903,26.91669017684918,25.51914412376858,25.727220893422174,20.653001246013485,21.832440929947357,28.416141056153247,26.853065062415883,12.525144640282507,22.691593697284997,17.440531580423183,27.69158839733272,21.433552284806375,15.602125313405022,16.04868426237885,26.699679366154026,27.39198258592796,24.888634753686432,14.975853162956081,12.70105277257925,15.750155042196866,14.725508443779788,15.00951395005224,27.184133827669303,26.51585142520368,27.004419343981894,15.447983636565036,27.115178642194458,26.082233776323964,25.413169191190217,18.277677412530956,16.080956405429145,23.15011302179659,17.248066737671817,22.63497027390466,24.28732814186321,31.08970379364392,17.590082315198448,26.095735056648873,28.530260167015058,26.7118995192816,10.938940751568566,23.001272708217662,31.20609320458032,24.133868694792206,29.54267316079811,26.68093015364196,17.108863570909296,29.23792090746745,15.464799974726176,24.74336548619879,14.235712800250692,25.58551697793748,23.609648978591412,24.960604379935198,31.618219716348516,29.68141703285324,19.083802188816218,11.880362457259517,26.524743576373265,25.173835484083384,25.906319487260312,21.997384783559816,28.774277567579674,18.911975530334562,14.720057008448208,26.074945212821206,26.165745395924525,26.718529404605388,25.82549120480443,14.706538936037582,19.481197890784514,15.545452275908131,27.71531545973783,12.932633342351599,32.17934597510425,31.431309727388552,22.82810801100141,28.000487969048528,10.772948273296624,32.430314949876134,14.078850303369896,26.221193965023936,25.729582528321426,22.08731943478756,24.338010167687926,26.504691688663343,28.30448114511635,25.84181930390588,11.154570419395597,14.58013428758666,22.790740359187172,28.761552841745118,22.110862641113716,14.010271897921537,24.57873990574408,21.742031953710434,22.96009510903176,24.319337132708984,11.000851157007906,19.355980619610655,13.250105308120407,34.43299067757134,30.05433208889684,13.773810801765581,25.76123580371933,22.236897021145566,23.519171045583704,20.019293899063477,27.49381146138807],\"yaxis\":\"y\"}],                        {\"template\":{\"data\":{\"bar\":[{\"error_x\":{\"color\":\"#2a3f5f\"},\"error_y\":{\"color\":\"#2a3f5f\"},\"marker\":{\"line\":{\"color\":\"#E5ECF6\",\"width\":0.5},\"pattern\":{\"fillmode\":\"overlay\",\"size\":10,\"solidity\":0.2}},\"type\":\"bar\"}],\"barpolar\":[{\"marker\":{\"line\":{\"color\":\"#E5ECF6\",\"width\":0.5},\"pattern\":{\"fillmode\":\"overlay\",\"size\":10,\"solidity\":0.2}},\"type\":\"barpolar\"}],\"carpet\":[{\"aaxis\":{\"endlinecolor\":\"#2a3f5f\",\"gridcolor\":\"white\",\"linecolor\":\"white\",\"minorgridcolor\":\"white\",\"startlinecolor\":\"#2a3f5f\"},\"baxis\":{\"endlinecolor\":\"#2a3f5f\",\"gridcolor\":\"white\",\"linecolor\":\"white\",\"minorgridcolor\":\"white\",\"startlinecolor\":\"#2a3f5f\"},\"type\":\"carpet\"}],\"choropleth\":[{\"colorbar\":{\"outlinewidth\":0,\"ticks\":\"\"},\"type\":\"choropleth\"}],\"contour\":[{\"colorbar\":{\"outlinewidth\":0,\"ticks\":\"\"},\"colorscale\":[[0.0,\"#0d0887\"],[0.1111111111111111,\"#46039f\"],[0.2222222222222222,\"#7201a8\"],[0.3333333333333333,\"#9c179e\"],[0.4444444444444444,\"#bd3786\"],[0.5555555555555556,\"#d8576b\"],[0.6666666666666666,\"#ed7953\"],[0.7777777777777778,\"#fb9f3a\"],[0.8888888888888888,\"#fdca26\"],[1.0,\"#f0f921\"]],\"type\":\"contour\"}],\"contourcarpet\":[{\"colorbar\":{\"outlinewidth\":0,\"ticks\":\"\"},\"type\":\"contourcarpet\"}],\"heatmap\":[{\"colorbar\":{\"outlinewidth\":0,\"ticks\":\"\"},\"colorscale\":[[0.0,\"#0d0887\"],[0.1111111111111111,\"#46039f\"],[0.2222222222222222,\"#7201a8\"],[0.3333333333333333,\"#9c179e\"],[0.4444444444444444,\"#bd3786\"],[0.5555555555555556,\"#d8576b\"],[0.6666666666666666,\"#ed7953\"],[0.7777777777777778,\"#fb9f3a\"],[0.8888888888888888,\"#fdca26\"],[1.0,\"#f0f921\"]],\"type\":\"heatmap\"}],\"heatmapgl\":[{\"colorbar\":{\"outlinewidth\":0,\"ticks\":\"\"},\"colorscale\":[[0.0,\"#0d0887\"],[0.1111111111111111,\"#46039f\"],[0.2222222222222222,\"#7201a8\"],[0.3333333333333333,\"#9c179e\"],[0.4444444444444444,\"#bd3786\"],[0.5555555555555556,\"#d8576b\"],[0.6666666666666666,\"#ed7953\"],[0.7777777777777778,\"#fb9f3a\"],[0.8888888888888888,\"#fdca26\"],[1.0,\"#f0f921\"]],\"type\":\"heatmapgl\"}],\"histogram\":[{\"marker\":{\"pattern\":{\"fillmode\":\"overlay\",\"size\":10,\"solidity\":0.2}},\"type\":\"histogram\"}],\"histogram2d\":[{\"colorbar\":{\"outlinewidth\":0,\"ticks\":\"\"},\"colorscale\":[[0.0,\"#0d0887\"],[0.1111111111111111,\"#46039f\"],[0.2222222222222222,\"#7201a8\"],[0.3333333333333333,\"#9c179e\"],[0.4444444444444444,\"#bd3786\"],[0.5555555555555556,\"#d8576b\"],[0.6666666666666666,\"#ed7953\"],[0.7777777777777778,\"#fb9f3a\"],[0.8888888888888888,\"#fdca26\"],[1.0,\"#f0f921\"]],\"type\":\"histogram2d\"}],\"histogram2dcontour\":[{\"colorbar\":{\"outlinewidth\":0,\"ticks\":\"\"},\"colorscale\":[[0.0,\"#0d0887\"],[0.1111111111111111,\"#46039f\"],[0.2222222222222222,\"#7201a8\"],[0.3333333333333333,\"#9c179e\"],[0.4444444444444444,\"#bd3786\"],[0.5555555555555556,\"#d8576b\"],[0.6666666666666666,\"#ed7953\"],[0.7777777777777778,\"#fb9f3a\"],[0.8888888888888888,\"#fdca26\"],[1.0,\"#f0f921\"]],\"type\":\"histogram2dcontour\"}],\"mesh3d\":[{\"colorbar\":{\"outlinewidth\":0,\"ticks\":\"\"},\"type\":\"mesh3d\"}],\"parcoords\":[{\"line\":{\"colorbar\":{\"outlinewidth\":0,\"ticks\":\"\"}},\"type\":\"parcoords\"}],\"pie\":[{\"automargin\":true,\"type\":\"pie\"}],\"scatter\":[{\"marker\":{\"colorbar\":{\"outlinewidth\":0,\"ticks\":\"\"}},\"type\":\"scatter\"}],\"scatter3d\":[{\"line\":{\"colorbar\":{\"outlinewidth\":0,\"ticks\":\"\"}},\"marker\":{\"colorbar\":{\"outlinewidth\":0,\"ticks\":\"\"}},\"type\":\"scatter3d\"}],\"scattercarpet\":[{\"marker\":{\"colorbar\":{\"outlinewidth\":0,\"ticks\":\"\"}},\"type\":\"scattercarpet\"}],\"scattergeo\":[{\"marker\":{\"colorbar\":{\"outlinewidth\":0,\"ticks\":\"\"}},\"type\":\"scattergeo\"}],\"scattergl\":[{\"marker\":{\"colorbar\":{\"outlinewidth\":0,\"ticks\":\"\"}},\"type\":\"scattergl\"}],\"scattermapbox\":[{\"marker\":{\"colorbar\":{\"outlinewidth\":0,\"ticks\":\"\"}},\"type\":\"scattermapbox\"}],\"scatterpolar\":[{\"marker\":{\"colorbar\":{\"outlinewidth\":0,\"ticks\":\"\"}},\"type\":\"scatterpolar\"}],\"scatterpolargl\":[{\"marker\":{\"colorbar\":{\"outlinewidth\":0,\"ticks\":\"\"}},\"type\":\"scatterpolargl\"}],\"scatterternary\":[{\"marker\":{\"colorbar\":{\"outlinewidth\":0,\"ticks\":\"\"}},\"type\":\"scatterternary\"}],\"surface\":[{\"colorbar\":{\"outlinewidth\":0,\"ticks\":\"\"},\"colorscale\":[[0.0,\"#0d0887\"],[0.1111111111111111,\"#46039f\"],[0.2222222222222222,\"#7201a8\"],[0.3333333333333333,\"#9c179e\"],[0.4444444444444444,\"#bd3786\"],[0.5555555555555556,\"#d8576b\"],[0.6666666666666666,\"#ed7953\"],[0.7777777777777778,\"#fb9f3a\"],[0.8888888888888888,\"#fdca26\"],[1.0,\"#f0f921\"]],\"type\":\"surface\"}],\"table\":[{\"cells\":{\"fill\":{\"color\":\"#EBF0F8\"},\"line\":{\"color\":\"white\"}},\"header\":{\"fill\":{\"color\":\"#C8D4E3\"},\"line\":{\"color\":\"white\"}},\"type\":\"table\"}]},\"layout\":{\"annotationdefaults\":{\"arrowcolor\":\"#2a3f5f\",\"arrowhead\":0,\"arrowwidth\":1},\"autotypenumbers\":\"strict\",\"coloraxis\":{\"colorbar\":{\"outlinewidth\":0,\"ticks\":\"\"}},\"colorscale\":{\"diverging\":[[0,\"#8e0152\"],[0.1,\"#c51b7d\"],[0.2,\"#de77ae\"],[0.3,\"#f1b6da\"],[0.4,\"#fde0ef\"],[0.5,\"#f7f7f7\"],[0.6,\"#e6f5d0\"],[0.7,\"#b8e186\"],[0.8,\"#7fbc41\"],[0.9,\"#4d9221\"],[1,\"#276419\"]],\"sequential\":[[0.0,\"#0d0887\"],[0.1111111111111111,\"#46039f\"],[0.2222222222222222,\"#7201a8\"],[0.3333333333333333,\"#9c179e\"],[0.4444444444444444,\"#bd3786\"],[0.5555555555555556,\"#d8576b\"],[0.6666666666666666,\"#ed7953\"],[0.7777777777777778,\"#fb9f3a\"],[0.8888888888888888,\"#fdca26\"],[1.0,\"#f0f921\"]],\"sequentialminus\":[[0.0,\"#0d0887\"],[0.1111111111111111,\"#46039f\"],[0.2222222222222222,\"#7201a8\"],[0.3333333333333333,\"#9c179e\"],[0.4444444444444444,\"#bd3786\"],[0.5555555555555556,\"#d8576b\"],[0.6666666666666666,\"#ed7953\"],[0.7777777777777778,\"#fb9f3a\"],[0.8888888888888888,\"#fdca26\"],[1.0,\"#f0f921\"]]},\"colorway\":[\"#636efa\",\"#EF553B\",\"#00cc96\",\"#ab63fa\",\"#FFA15A\",\"#19d3f3\",\"#FF6692\",\"#B6E880\",\"#FF97FF\",\"#FECB52\"],\"font\":{\"color\":\"#2a3f5f\"},\"geo\":{\"bgcolor\":\"white\",\"lakecolor\":\"white\",\"landcolor\":\"#E5ECF6\",\"showlakes\":true,\"showland\":true,\"subunitcolor\":\"white\"},\"hoverlabel\":{\"align\":\"left\"},\"hovermode\":\"closest\",\"mapbox\":{\"style\":\"light\"},\"paper_bgcolor\":\"white\",\"plot_bgcolor\":\"#E5ECF6\",\"polar\":{\"angularaxis\":{\"gridcolor\":\"white\",\"linecolor\":\"white\",\"ticks\":\"\"},\"bgcolor\":\"#E5ECF6\",\"radialaxis\":{\"gridcolor\":\"white\",\"linecolor\":\"white\",\"ticks\":\"\"}},\"scene\":{\"xaxis\":{\"backgroundcolor\":\"#E5ECF6\",\"gridcolor\":\"white\",\"gridwidth\":2,\"linecolor\":\"white\",\"showbackground\":true,\"ticks\":\"\",\"zerolinecolor\":\"white\"},\"yaxis\":{\"backgroundcolor\":\"#E5ECF6\",\"gridcolor\":\"white\",\"gridwidth\":2,\"linecolor\":\"white\",\"showbackground\":true,\"ticks\":\"\",\"zerolinecolor\":\"white\"},\"zaxis\":{\"backgroundcolor\":\"#E5ECF6\",\"gridcolor\":\"white\",\"gridwidth\":2,\"linecolor\":\"white\",\"showbackground\":true,\"ticks\":\"\",\"zerolinecolor\":\"white\"}},\"shapedefaults\":{\"line\":{\"color\":\"#2a3f5f\"}},\"ternary\":{\"aaxis\":{\"gridcolor\":\"white\",\"linecolor\":\"white\",\"ticks\":\"\"},\"baxis\":{\"gridcolor\":\"white\",\"linecolor\":\"white\",\"ticks\":\"\"},\"bgcolor\":\"#E5ECF6\",\"caxis\":{\"gridcolor\":\"white\",\"linecolor\":\"white\",\"ticks\":\"\"}},\"title\":{\"x\":0.05},\"xaxis\":{\"automargin\":true,\"gridcolor\":\"white\",\"linecolor\":\"white\",\"ticks\":\"\",\"title\":{\"standoff\":15},\"zerolinecolor\":\"white\",\"zerolinewidth\":2},\"yaxis\":{\"automargin\":true,\"gridcolor\":\"white\",\"linecolor\":\"white\",\"ticks\":\"\",\"title\":{\"standoff\":15},\"zerolinecolor\":\"white\",\"zerolinewidth\":2}}}},                        {\"responsive\": true}                    ).then(function(){\n",
              "                            \n",
              "var gd = document.getElementById('36209009-389a-4b7f-b9fe-5ed1a81de292');\n",
              "var x = new MutationObserver(function (mutations, observer) {{\n",
              "        var display = window.getComputedStyle(gd).display;\n",
              "        if (!display || display === 'none') {{\n",
              "            console.log([gd, 'removed!']);\n",
              "            Plotly.purge(gd);\n",
              "            observer.disconnect();\n",
              "        }}\n",
              "}});\n",
              "\n",
              "// Listen for the removal of the full notebook cells\n",
              "var notebookContainer = gd.closest('#notebook-container');\n",
              "if (notebookContainer) {{\n",
              "    x.observe(notebookContainer, {childList: true});\n",
              "}}\n",
              "\n",
              "// Listen for the clearing of the current output cell\n",
              "var outputEl = gd.closest('.output');\n",
              "if (outputEl) {{\n",
              "    x.observe(outputEl, {childList: true});\n",
              "}}\n",
              "\n",
              "                        })                };                            </script>        </div>\n",
              "</body>\n",
              "</html>"
            ]
          },
          "metadata": {
            "tags": []
          }
        }
      ]
    }
  ]
}